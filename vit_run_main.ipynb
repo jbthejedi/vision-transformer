{
 "cells": [
  {
   "cell_type": "code",
   "execution_count": 1,
   "id": "27923a2e-5509-46f4-9ce5-c20e4e565bc1",
   "metadata": {},
   "outputs": [],
   "source": [
    "%load_ext autoreload\n",
    "%autoreload 2"
   ]
  },
  {
   "cell_type": "code",
   "execution_count": 2,
   "id": "aa5e6d4e-b501-4873-b3be-a2db3a28fcb8",
   "metadata": {
    "scrolled": true
   },
   "outputs": [],
   "source": [
    "import vision_transformer_v1 as vt"
   ]
  },
  {
   "cell_type": "code",
   "execution_count": null,
   "id": "c96a5489-4614-4c5c-9a28-73758a77410c",
   "metadata": {},
   "outputs": [
    {
     "name": "stdout",
     "output_type": "stream",
     "text": [
      "0\n"
     ]
    }
   ],
   "source": [
    "vt.main()"
   ]
  },
  {
   "cell_type": "code",
   "execution_count": null,
   "id": "fb22ec7b-715a-4cf4-9bed-aec835532468",
   "metadata": {},
   "outputs": [],
   "source": []
  }
 ],
 "metadata": {
  "kernelspec": {
   "display_name": "Python 3 (ipykernel)",
   "language": "python",
   "name": "python3"
  },
  "language_info": {
   "codemirror_mode": {
    "name": "ipython",
    "version": 3
   },
   "file_extension": ".py",
   "mimetype": "text/x-python",
   "name": "python",
   "nbconvert_exporter": "python",
   "pygments_lexer": "ipython3",
   "version": "3.10.16"
  }
 },
 "nbformat": 4,
 "nbformat_minor": 5
}
